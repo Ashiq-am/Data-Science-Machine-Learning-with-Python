{
  "nbformat": 4,
  "nbformat_minor": 0,
  "metadata": {
    "colab": {
      "provenance": [],
      "authorship_tag": "ABX9TyMBus3Yi9MP9YQLJECyUJL5",
      "include_colab_link": true
    },
    "kernelspec": {
      "name": "python3",
      "display_name": "Python 3"
    },
    "language_info": {
      "name": "python"
    }
  },
  "cells": [
    {
      "cell_type": "markdown",
      "metadata": {
        "id": "view-in-github",
        "colab_type": "text"
      },
      "source": [
        "<a href=\"https://colab.research.google.com/github/Ashiq-am/Data-Science-Machine-Learning-with-Python/blob/main/Python_Bascis.ipynb\" target=\"_parent\"><img src=\"https://colab.research.google.com/assets/colab-badge.svg\" alt=\"Open In Colab\"/></a>"
      ]
    },
    {
      "cell_type": "markdown",
      "source": [
        "# Getting Started with Python Basics in Colab\n",
        "----------------------------------------------------\n",
        "# 1. Variables and Data Types\n",
        "----------------------------------------------------\n",
        "# In Python, you don't need to explicitly declare the type of a variable.\n",
        "# The type is determined automatically based on the value you assign.\n",
        "\n",
        "\n"
      ],
      "metadata": {
        "id": "bIC3oobH3cOZ"
      }
    },
    {
      "cell_type": "code",
      "source": [
        "# Examples of different data types:\n",
        "integer_var = 42              # Integer\n",
        "float_var   = 3.1415          # Float\n",
        "string_var  = \"Hello, Python\" # String\n",
        "boolean_var = True            # Boolean\n",
        "\n",
        "print(\"----- Variables and Data Types -----\")\n",
        "print(\"Integer Variable:\", integer_var)\n",
        "print(\"Float Variable:\", float_var)\n",
        "print(\"String Variable:\", string_var)\n",
        "print(\"Boolean Variable:\", boolean_var)\n",
        "\n",
        "greeting = \"Hello\"\n",
        "greeting = greeting + \" World\"  # creates a new string \"Hello World\"\n",
        "\n",
        "print(greeting)\n",
        "\n",
        "my_list = [1, \"two\", 3.0, True]\n",
        "my_list[1] = \"new value\"  # Lists are mutable\n",
        "print(my_list)\n",
        "\n",
        "my_tuple = (1, \"two\", 3.0)\n",
        "# my_tuple[1] = \"new value\"  # This would raise an error because tuples are immutable\n",
        "print(my_tuple)\n",
        "\n",
        "numbers = range(5)  # Creates a sequence [0, 1, 2, 3, 4]\n",
        "for i in numbers:\n",
        "    print(i)\n",
        "\n",
        "my_set = {1, 2, 3, 2, 1}\n",
        "print(my_set)  # Output: {1, 2, 3}\n",
        "\n",
        "my_frozenset = frozenset([1, 2, 3])\n",
        "# my_frozenset.add(4)  # Raises an error because it's immutable\n",
        "print(my_frozenset)\n",
        "\n",
        "person = {\n",
        "    \"name\": \"Alice\",\n",
        "    \"age\": 30,\n",
        "    \"city\": \"New York\"\n",
        "}\n",
        "person[\"age\"] = 31  # update value\n",
        "print(person)\n",
        "\n",
        "x = None\n",
        "if x is None:\n",
        "    print(\"x has no value\")\n",
        "\n",
        "\n",
        "x = 10\n",
        "print(type(x))  # <class 'int'>\n",
        "\n",
        "\n",
        "# Convert a float to an int\n",
        "pi = 3.14\n",
        "pi_int = int(pi)  # 3\n",
        "\n",
        "# Convert an int to a string\n",
        "num_str = str(10)  # \"10\"\n",
        "\n",
        "# Convert a list to a set\n",
        "my_list = [1, 2, 3, 2]\n",
        "my_set = set(my_list)  # {1, 2, 3}"
      ],
      "metadata": {
        "colab": {
          "base_uri": "https://localhost:8080/"
        },
        "id": "SKziDdw834c-",
        "outputId": "7d515106-a03b-438f-b2d4-04fddfab56da"
      },
      "execution_count": 2,
      "outputs": [
        {
          "output_type": "stream",
          "name": "stdout",
          "text": [
            "----- Variables and Data Types -----\n",
            "Integer Variable: 42\n",
            "Float Variable: 3.1415\n",
            "String Variable: Hello, Python\n",
            "Boolean Variable: True\n",
            "Hello World\n",
            "[1, 'new value', 3.0, True]\n",
            "(1, 'two', 3.0)\n",
            "0\n",
            "1\n",
            "2\n",
            "3\n",
            "4\n",
            "{1, 2, 3}\n",
            "frozenset({1, 2, 3})\n",
            "{'name': 'Alice', 'age': 31, 'city': 'New York'}\n",
            "x has no value\n",
            "<class 'int'>\n"
          ]
        }
      ]
    },
    {
      "cell_type": "markdown",
      "source": [
        "# ----------------------------------------------------\n",
        "# 2. Dynamic Typing in Python\n",
        "# ----------------------------------------------------\n",
        "# Python is dynamically typed. This means that a variable can be reassigned to a value of a different data type without any error."
      ],
      "metadata": {
        "id": "ZyauiEq642PK"
      }
    },
    {
      "cell_type": "code",
      "source": [
        "dynamic_var = 100\n",
        "print(\"\\nBefore reassignment:\")\n",
        "print(\"dynamic_var =\", dynamic_var, \"| Type:\", type(dynamic_var))\n",
        "\n",
        "# Reassign the same variable to a string\n",
        "dynamic_var = \"Now I'm a string!\"\n",
        "print(\"\\nAfter reassignment:\")\n",
        "print(\"dynamic_var =\", dynamic_var, \"| Type:\", type(dynamic_var))"
      ],
      "metadata": {
        "colab": {
          "base_uri": "https://localhost:8080/"
        },
        "id": "Sjhou4KK5EAZ",
        "outputId": "ea0f9d2c-a007-42c5-e548-321663a8056f"
      },
      "execution_count": 3,
      "outputs": [
        {
          "output_type": "stream",
          "name": "stdout",
          "text": [
            "\n",
            "Before reassignment:\n",
            "dynamic_var = 100 | Type: <class 'int'>\n",
            "\n",
            "After reassignment:\n",
            "dynamic_var = Now I'm a string! | Type: <class 'str'>\n"
          ]
        }
      ]
    }
  ]
}