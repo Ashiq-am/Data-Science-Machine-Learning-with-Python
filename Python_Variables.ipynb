{
  "nbformat": 4,
  "nbformat_minor": 0,
  "metadata": {
    "colab": {
      "provenance": [],
      "authorship_tag": "ABX9TyMmZWeXyEAgbKV6Stqlij1H",
      "include_colab_link": true
    },
    "kernelspec": {
      "name": "python3",
      "display_name": "Python 3"
    },
    "language_info": {
      "name": "python"
    }
  },
  "cells": [
    {
      "cell_type": "markdown",
      "metadata": {
        "id": "view-in-github",
        "colab_type": "text"
      },
      "source": [
        "<a href=\"https://colab.research.google.com/github/Ashiq-am/Data-Science-Machine-Learning-with-Python/blob/main/Python_Variables.ipynb\" target=\"_parent\"><img src=\"https://colab.research.google.com/assets/colab-badge.svg\" alt=\"Open In Colab\"/></a>"
      ]
    },
    {
      "cell_type": "code",
      "execution_count": 1,
      "metadata": {
        "colab": {
          "base_uri": "https://localhost:8080/"
        },
        "id": "GCV7A7XqzmPT",
        "outputId": "6b18e664-5d05-4eed-bbe6-23b339f72564"
      },
      "outputs": [
        {
          "output_type": "stream",
          "name": "stdout",
          "text": [
            "----- Variables and Data Types -----\n",
            "Integer Variable: 42\n",
            "Float Variable: 3.1415\n",
            "String Variable: Hello, Python\n",
            "Boolean Variable: True\n"
          ]
        }
      ],
      "source": [
        "# Examples of different data types:\n",
        "integer_var = 42              # Integer\n",
        "float_var   = 3.1415          # Float\n",
        "string_var  = \"Hello, Python\" # String\n",
        "boolean_var = True            # Boolean\n",
        "\n",
        "print(\"----- Variables and Data Types -----\")\n",
        "print(\"Integer Variable:\", integer_var)\n",
        "print(\"Float Variable:\", float_var)\n",
        "print(\"String Variable:\", string_var)\n",
        "print(\"Boolean Variable:\", boolean_var)"
      ]
    }
  ]
}